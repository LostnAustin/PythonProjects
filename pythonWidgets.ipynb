{
  "nbformat": 4,
  "nbformat_minor": 0,
  "metadata": {
    "colab": {
      "provenance": [],
      "authorship_tag": "ABX9TyOlRKni1eyMmritDOvuXi+S",
      "include_colab_link": true
    },
    "kernelspec": {
      "name": "python3",
      "display_name": "Python 3"
    },
    "language_info": {
      "name": "python"
    }
  },
  "cells": [
    {
      "cell_type": "markdown",
      "metadata": {
        "id": "view-in-github",
        "colab_type": "text"
      },
      "source": [
        "<a href=\"https://colab.research.google.com/github/LostnAustin/PythonProjects/blob/main/pythonWidgets.ipynb\" target=\"_parent\"><img src=\"https://colab.research.google.com/assets/colab-badge.svg\" alt=\"Open In Colab\"/></a>"
      ]
    },
    {
      "cell_type": "markdown",
      "source": [
        "Widgets"
      ],
      "metadata": {
        "id": "ESrgR1KhsA8k"
      }
    },
    {
      "cell_type": "code",
      "execution_count": null,
      "metadata": {
        "id": "2aECz-mfr9AQ"
      },
      "outputs": [],
      "source": [
        "#Slider\n",
        "from ipywidgets import IntSlider\n",
        "\n",
        "slider = IntSlider(value=50)\n",
        "slider"
      ]
    },
    {
      "cell_type": "markdown",
      "source": [
        "Python <> UI\n",
        "Visual representation of python object"
      ],
      "metadata": {
        "id": "j2KMov_4sZtd"
      }
    },
    {
      "cell_type": "code",
      "source": [
        "slider.value = 100"
      ],
      "metadata": {
        "id": "Af6mMEFUskWh"
      },
      "execution_count": null,
      "outputs": []
    },
    {
      "cell_type": "markdown",
      "source": [
        "Listen for changes dynamically\n",
        "\n",
        "```\n",
        "# This is formatted as code\n",
        "```\n",
        "\n"
      ],
      "metadata": {
        "id": "-lLYILsoso69"
      }
    },
    {
      "cell_type": "code",
      "source": [
        "from ipywidgets import HTML\n",
        "\n",
        "text = HTML(\"The slider value is <b>{}</b>\".format(slider.value))\n",
        "text"
      ],
      "metadata": {
        "id": "H1ZgPPNRsrEO"
      },
      "execution_count": null,
      "outputs": []
    },
    {
      "cell_type": "markdown",
      "source": [
        "Widgets ecosystem:\n",
        "\n",
        "\n",
        "*   ipywidgets (core UI control)\n",
        "*   bqplot (2d plots)\n",
        "*   pythreejs, ipyvolume(3d plotting)\n",
        "*   ipyleaflet(maps)\n",
        "\n",
        "Bqplot - library on top of widgets ecosystem, with all aspects being dynamic widgets\n",
        "\n",
        "\n",
        "\n"
      ],
      "metadata": {
        "id": "N5qO4tQAu8FS"
      }
    },
    {
      "cell_type": "code",
      "source": [
        "import numpy as np\n",
        "\n",
        "from bqplot import LinearScale, Scatter, Figure\n",
        "from bqplot_extra.regresssion_lines import *\n",
        "\n",
        "# Styles\n",
        "line_style = {'colors' ['magenta'], 'stroke_width': 3}\n",
        "scatter_style = {'colors' ['white'], 'stroke': 'black'}"
      ],
      "metadata": {
        "id": "7bO1CKmOvkqj"
      },
      "execution_count": null,
      "outputs": []
    },
    {
      "cell_type": "code",
      "source": [
        "x = np.arange(-10, 10, 0.5)\n",
        "y = np.cos(x) + np.random.randn(x.size)\n",
        "\n",
        "sc_x, sc_y = LinearScale(), LinearScale()\n",
        "scatter = Scatter(x=x, y=y, scales={'x': sc_x, 'y': sc_y}, ** scatter_style)\n",
        "poly = PolyFit(x_train=x, y_train=y, order=1, scales={'x', sc_x, 'y': sc_y}, ** line_style)\n",
        "fig = Figure(marks=[scatter, poly], animation_duration=1000)\n",
        "fig"
      ],
      "metadata": {
        "id": "psdQsGAYwFZg"
      },
      "execution_count": null,
      "outputs": []
    },
    {
      "cell_type": "code",
      "source": [
        "poly.order = 5"
      ],
      "metadata": {
        "id": "NTE5mBkWxSWy"
      },
      "execution_count": null,
      "outputs": []
    },
    {
      "cell_type": "markdown",
      "source": [
        "Widgets are linkable"
      ],
      "metadata": {
        "id": "IhpMl8wkxYhh"
      }
    },
    {
      "cell_type": "code",
      "source": [
        "from traitlets import link\n",
        "from ipywidges import VBox"
      ],
      "metadata": {
        "id": "7bCWNNujxdVN"
      },
      "execution_count": null,
      "outputs": []
    },
    {
      "cell_type": "code",
      "source": [
        "order_slider = IntSlider(min=0, max=10, layout={'width': '30%'},\n",
        "                         description='Order of polynomial fit')\n",
        "link((order_slider, 'value'), (poly, 'order'))\n",
        "\n",
        "VBox([order_slider, fig])"
      ],
      "metadata": {
        "id": "7dZ2CxdCxilB"
      },
      "execution_count": null,
      "outputs": []
    },
    {
      "cell_type": "markdown",
      "source": [
        "Combining widgets for advanced functionality"
      ],
      "metadata": {
        "id": "M_dVbLy-yCmj"
      }
    },
    {
      "cell_type": "code",
      "source": [
        "from ipywidgets import (FloatSlider, IntSlider, Accordion,\n",
        "                        Hbox, VBox, ToggleButtons)\n",
        "\n",
        "#train / test data\n",
        "x_train = np.arange(-10, 10, 0.5)\n",
        "y_train = x_train ** 2 + 10 * np.random.randn(len(x)train))\n",
        "x_test = np.linspace(-12, 12, 500)\n",
        "\n",
        "##Control Panel\n",
        "#Interpolation\n",
        "tog_interp = ToggleButtons(options=['nearest', 'zero', 'slinear', 'linear', 'quadratic', 'cubic'],\n",
        "                          description = 'Interpolation type', grow=1)\n",
        "tog_extrap = Togglebuttons(options=['constant', 'linear'], description='Extrapolation type', grow=1)\n",
        "#Polynomial\n",
        "order_slider = IntSlider(value=0, min=0, max=10, step=1, description='Polynomial Order')\n",
        "#Non-parametric\n",
        "bw_slider = FloatSlider(value=5, min=0.1, max=10, step=0.5, description='Kernel Bandwith')\n",
        "order_slider_np = IntSlider(value=0, min=0, max=10, step=1, description='Local Polynomial Order')\n",
        "#B-Splines\n",
        "order_slider_bsp = IntSlider(value=2, min=0, max=10, description='Order')\n",
        "knots_slider = IntSlider(value=10, min=4, max=20, description='No of knots')\n",
        "tr_order_slider = IntSlider(value=-1, min=-1, max=order_slider.bsp.value + 1, description='Penalization Order')\n",
        "\n",
        "#Constraints on the B-splines parameters\n",
        "\n",
        "# 1. no_knots >= order\n",
        "# 2. -1 <= tr_order <= order\n",
        "# 3. pen_order <= order + 1\n",
        "\n",
        "def create_callback(Widget, trait_name):\n",
        "    def f(change):\n",
        "      setattr(widget, trait_name, change['new'])\n",
        "    return f\n",
        "\n",
        "for i, reg in enumerate(reg_types):\n",
        "  acc.set_title(i, reg['name'])\n",
        "  for param, slid in reg['controls'].items():\n",
        "      slid.observe(create_callback(reg['widget'], param) names='value')\n",
        "\n",
        "#Updating the regression line when value is changed in accordion widget\n",
        "def update_reg_line(change):\n",
        "  index = cange['new']\n",
        "  reg = reg_types[index]\n",
        "  figure.marks = [scatter, reg_types[index]['widget']]\n",
        "\n",
        "acc.observe(update_reg_line, names='selected_index')\n",
        "\n",
        "HBox([figure, acc])"
      ],
      "metadata": {
        "id": "40l9eQalyHnc"
      },
      "execution_count": null,
      "outputs": []
    }
  ]
}